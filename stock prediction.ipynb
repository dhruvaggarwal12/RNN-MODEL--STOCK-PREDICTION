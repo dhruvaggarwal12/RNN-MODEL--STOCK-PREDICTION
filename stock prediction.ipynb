{
 "cells": [
  {
   "cell_type": "markdown",
   "metadata": {},
   "source": [
    "1)collect thh stock data\n",
    "2)preprocess the data and train and test the data\n",
    "3)create a stacked lstm model\n",
    "4)predict the test data and plot the output\n",
    "5)predict the duture 30 days andplot the output"
   ]
  },
  {
   "cell_type": "code",
   "execution_count": 1,
   "metadata": {},
   "outputs": [],
   "source": [
    "key=\"bc587b4840f8c82114c68f62e73f8809c9c9e532\""
   ]
  },
  {
   "cell_type": "code",
   "execution_count": 4,
   "metadata": {},
   "outputs": [],
   "source": [
    "import pandas_datareader as pdr"
   ]
  },
  {
   "cell_type": "code",
   "execution_count": 5,
   "metadata": {},
   "outputs": [
    {
     "name": "stderr",
     "output_type": "stream",
     "text": [
      "C:\\Users\\HP\\AppData\\Local\\Temp\\ipykernel_6308\\2203299146.py:1: FutureWarning: In a future version of pandas all arguments of concat except for the argument 'objs' will be keyword-only.\n",
      "  df=pdr.get_data_tiingo('AAPL',api_key=key)\n"
     ]
    }
   ],
   "source": [
    "df=pdr.get_data_tiingo('AAPL',api_key=key)"
   ]
  },
  {
   "cell_type": "code",
   "execution_count": 6,
   "metadata": {},
   "outputs": [],
   "source": [
    "df.to_csv('AAPL.csv')"
   ]
  },
  {
   "cell_type": "code",
   "execution_count": 7,
   "metadata": {},
   "outputs": [],
   "source": [
    "import pandas as pd"
   ]
  },
  {
   "cell_type": "code",
   "execution_count": 9,
   "metadata": {},
   "outputs": [
    {
     "data": {
      "text/html": [
       "<div>\n",
       "<style scoped>\n",
       "    .dataframe tbody tr th:only-of-type {\n",
       "        vertical-align: middle;\n",
       "    }\n",
       "\n",
       "    .dataframe tbody tr th {\n",
       "        vertical-align: top;\n",
       "    }\n",
       "\n",
       "    .dataframe thead th {\n",
       "        text-align: right;\n",
       "    }\n",
       "</style>\n",
       "<table border=\"1\" class=\"dataframe\">\n",
       "  <thead>\n",
       "    <tr style=\"text-align: right;\">\n",
       "      <th></th>\n",
       "      <th></th>\n",
       "      <th>close</th>\n",
       "      <th>high</th>\n",
       "      <th>low</th>\n",
       "      <th>open</th>\n",
       "      <th>volume</th>\n",
       "      <th>adjClose</th>\n",
       "      <th>adjHigh</th>\n",
       "      <th>adjLow</th>\n",
       "      <th>adjOpen</th>\n",
       "      <th>adjVolume</th>\n",
       "      <th>divCash</th>\n",
       "      <th>splitFactor</th>\n",
       "    </tr>\n",
       "    <tr>\n",
       "      <th>symbol</th>\n",
       "      <th>date</th>\n",
       "      <th></th>\n",
       "      <th></th>\n",
       "      <th></th>\n",
       "      <th></th>\n",
       "      <th></th>\n",
       "      <th></th>\n",
       "      <th></th>\n",
       "      <th></th>\n",
       "      <th></th>\n",
       "      <th></th>\n",
       "      <th></th>\n",
       "      <th></th>\n",
       "    </tr>\n",
       "  </thead>\n",
       "  <tbody>\n",
       "    <tr>\n",
       "      <th rowspan=\"5\" valign=\"top\">AAPL</th>\n",
       "      <th>2019-01-30 00:00:00+00:00</th>\n",
       "      <td>165.25</td>\n",
       "      <td>166.15</td>\n",
       "      <td>160.23</td>\n",
       "      <td>163.25</td>\n",
       "      <td>61109780</td>\n",
       "      <td>39.650942</td>\n",
       "      <td>39.866893</td>\n",
       "      <td>38.446417</td>\n",
       "      <td>39.171051</td>\n",
       "      <td>244439120</td>\n",
       "      <td>0.0</td>\n",
       "      <td>1.0</td>\n",
       "    </tr>\n",
       "    <tr>\n",
       "      <th>2019-01-31 00:00:00+00:00</th>\n",
       "      <td>166.44</td>\n",
       "      <td>169.00</td>\n",
       "      <td>164.56</td>\n",
       "      <td>166.11</td>\n",
       "      <td>40739649</td>\n",
       "      <td>39.936477</td>\n",
       "      <td>40.550736</td>\n",
       "      <td>39.485380</td>\n",
       "      <td>39.857295</td>\n",
       "      <td>162958596</td>\n",
       "      <td>0.0</td>\n",
       "      <td>1.0</td>\n",
       "    </tr>\n",
       "    <tr>\n",
       "      <th>2019-02-01 00:00:00+00:00</th>\n",
       "      <td>166.52</td>\n",
       "      <td>168.98</td>\n",
       "      <td>165.93</td>\n",
       "      <td>166.96</td>\n",
       "      <td>32668138</td>\n",
       "      <td>39.955672</td>\n",
       "      <td>40.545937</td>\n",
       "      <td>39.814105</td>\n",
       "      <td>40.061248</td>\n",
       "      <td>130672552</td>\n",
       "      <td>0.0</td>\n",
       "      <td>1.0</td>\n",
       "    </tr>\n",
       "    <tr>\n",
       "      <th>2019-02-04 00:00:00+00:00</th>\n",
       "      <td>171.25</td>\n",
       "      <td>171.66</td>\n",
       "      <td>167.28</td>\n",
       "      <td>167.41</td>\n",
       "      <td>31495582</td>\n",
       "      <td>41.090613</td>\n",
       "      <td>41.188990</td>\n",
       "      <td>40.138031</td>\n",
       "      <td>40.169223</td>\n",
       "      <td>125982328</td>\n",
       "      <td>0.0</td>\n",
       "      <td>1.0</td>\n",
       "    </tr>\n",
       "    <tr>\n",
       "      <th>2019-02-05 00:00:00+00:00</th>\n",
       "      <td>174.18</td>\n",
       "      <td>175.08</td>\n",
       "      <td>172.35</td>\n",
       "      <td>172.86</td>\n",
       "      <td>36101628</td>\n",
       "      <td>41.793652</td>\n",
       "      <td>42.009603</td>\n",
       "      <td>41.354553</td>\n",
       "      <td>41.476925</td>\n",
       "      <td>144406512</td>\n",
       "      <td>0.0</td>\n",
       "      <td>1.0</td>\n",
       "    </tr>\n",
       "  </tbody>\n",
       "</table>\n",
       "</div>"
      ],
      "text/plain": [
       "                                   close    high     low    open    volume  \\\n",
       "symbol date                                                                  \n",
       "AAPL   2019-01-30 00:00:00+00:00  165.25  166.15  160.23  163.25  61109780   \n",
       "       2019-01-31 00:00:00+00:00  166.44  169.00  164.56  166.11  40739649   \n",
       "       2019-02-01 00:00:00+00:00  166.52  168.98  165.93  166.96  32668138   \n",
       "       2019-02-04 00:00:00+00:00  171.25  171.66  167.28  167.41  31495582   \n",
       "       2019-02-05 00:00:00+00:00  174.18  175.08  172.35  172.86  36101628   \n",
       "\n",
       "                                   adjClose    adjHigh     adjLow    adjOpen  \\\n",
       "symbol date                                                                    \n",
       "AAPL   2019-01-30 00:00:00+00:00  39.650942  39.866893  38.446417  39.171051   \n",
       "       2019-01-31 00:00:00+00:00  39.936477  40.550736  39.485380  39.857295   \n",
       "       2019-02-01 00:00:00+00:00  39.955672  40.545937  39.814105  40.061248   \n",
       "       2019-02-04 00:00:00+00:00  41.090613  41.188990  40.138031  40.169223   \n",
       "       2019-02-05 00:00:00+00:00  41.793652  42.009603  41.354553  41.476925   \n",
       "\n",
       "                                  adjVolume  divCash  splitFactor  \n",
       "symbol date                                                        \n",
       "AAPL   2019-01-30 00:00:00+00:00  244439120      0.0          1.0  \n",
       "       2019-01-31 00:00:00+00:00  162958596      0.0          1.0  \n",
       "       2019-02-01 00:00:00+00:00  130672552      0.0          1.0  \n",
       "       2019-02-04 00:00:00+00:00  125982328      0.0          1.0  \n",
       "       2019-02-05 00:00:00+00:00  144406512      0.0          1.0  "
      ]
     },
     "execution_count": 9,
     "metadata": {},
     "output_type": "execute_result"
    }
   ],
   "source": [
    "df.head()"
   ]
  },
  {
   "cell_type": "code",
   "execution_count": 10,
   "metadata": {},
   "outputs": [],
   "source": [
    "#picking the close index\n",
    "df1=df.reset_index()['close']"
   ]
  },
  {
   "cell_type": "code",
   "execution_count": 11,
   "metadata": {},
   "outputs": [
    {
     "data": {
      "text/plain": [
       "[<matplotlib.lines.Line2D at 0x1717e62c220>]"
      ]
     },
     "execution_count": 11,
     "metadata": {},
     "output_type": "execute_result"
    },
    {
     "data": {
      "image/png": "[encoded data removed]",
      "text/plain": [
       "<Figure size 640x480 with 1 Axes>"
      ]
     },
     "metadata": {},
     "output_type": "display_data"
    }
   ],
   "source": [
    "import matplotlib.pyplot as plt \n",
    "plt.plot(df1)"
   ]
  },
  {
   "cell_type": "code",
   "execution_count": 12,
   "metadata": {},
   "outputs": [],
   "source": [
    "#lstm is scale sensitive so it will be scaled between 0-1 using min max scaler\n",
    "import numpy as np"
   ]
  },
  {
   "cell_type": "code",
   "execution_count": 15,
   "metadata": {},
   "outputs": [],
   "source": [
    "from sklearn.preprocessing import MinMaxScaler\n",
    "scaler=MinMaxScaler(feature_range=(0,1))\n",
    "df1=scaler.fit_transform(np.array(df1).reshape(-1,1))"
   ]
  },
  {
   "cell_type": "code",
   "execution_count": 16,
   "metadata": {},
   "outputs": [
    {
     "data": {
      "text/plain": [
       "array([[0.14629931],\n",
       "       [0.1492799 ],\n",
       "       [0.14948028],\n",
       "       ...,\n",
       "       [0.21956168],\n",
       "       [0.21873513],\n",
       "       [0.21435191]])"
      ]
     },
     "execution_count": 16,
     "metadata": {},
     "output_type": "execute_result"
    }
   ],
   "source": [
    "df1"
   ]
  },
  {
   "cell_type": "markdown",
   "metadata": {},
   "source": [
    "preprocess the data and convert it into train and test split\n",
    "0.65 ratio will be divided in train and that too in continuation\n"
   ]
  },
  {
   "cell_type": "code",
   "execution_count": 17,
   "metadata": {},
   "outputs": [],
   "source": [
    "training_size=int(len(df1)*0.65)\n",
    "test_size=len(df1)-training_size\n",
    "train_data,test_data=df1[0:training_size,:],df1[training_size:len(df1),:1]"
   ]
  },
  {
   "cell_type": "code",
   "execution_count": 18,
   "metadata": {},
   "outputs": [
    {
     "data": {
      "text/plain": [
       "817"
      ]
     },
     "execution_count": 18,
     "metadata": {},
     "output_type": "execute_result"
    }
   ],
   "source": [
    "len(train_data)"
   ]
  },
  {
   "cell_type": "markdown",
   "metadata": {},
   "source": [
    "defining timestamps to specify the number of days considerations to predict the output \n",
    "x_train will be the previous days and x_test will be the output"
   ]
  },
  {
   "cell_type": "code",
   "execution_count": 19,
   "metadata": {},
   "outputs": [],
   "source": [
    "import numpy\n",
    "#convert an array of values into a dataset matrix\n",
    "\n",
    "def  create_dataset(dataset,time_step=1):\n",
    "    dataX,dataY=[],[]\n",
    "    for i in range(len(dataset)-time_step-1):\n",
    "        a=dataset[i:(i+time_step),0]   ### first three records will go in input\n",
    "        dataX.append(a)\n",
    "        dataY.append(dataset[i+time_step,0])\n",
    "    return numpy.array(dataX),numpy.array(dataY)    "
   ]
  },
  {
   "cell_type": "code",
   "execution_count": 20,
   "metadata": {},
   "outputs": [],
   "source": [
    "time_step=100\n",
    "X_train,y_train=create_dataset(train_data,time_step)\n",
    "X_test,y_test=create_dataset(test_data,time_step)"
   ]
  },
  {
   "cell_type": "code",
   "execution_count": 23,
   "metadata": {},
   "outputs": [
    {
     "name": "stdout",
     "output_type": "stream",
     "text": [
      "(716, 100)\n",
      "(716,)\n",
      "(339, 100)\n",
      "(339,)\n"
     ]
    },
    {
     "data": {
      "text/plain": [
       "(None, None, None, None)"
      ]
     },
     "execution_count": 23,
     "metadata": {},
     "output_type": "execute_result"
    }
   ],
   "source": [
    "print(X_train.shape) ,print(y_train.shape),print(X_test.shape),print(y_test.shape)  "
   ]
  },
  {
   "cell_type": "code",
   "execution_count": 27,
   "metadata": {},
   "outputs": [
    {
     "data": {
      "text/plain": [
       "(100, 1)"
      ]
     },
     "execution_count": 27,
     "metadata": {},
     "output_type": "execute_result"
    }
   ],
   "source": [
    "X_train[0].shape"
   ]
  },
  {
   "cell_type": "code",
   "execution_count": 24,
   "metadata": {},
   "outputs": [],
   "source": [
    "#reshaping and resizing it because lstm takes 3 inputs\n",
    "X_train=X_train.reshape(X_train.shape[0],X_train.shape[1],1)\n",
    "X_test=X_test.reshape(X_test.shape[0],X_test.shape[1],1)"
   ]
  },
  {
   "cell_type": "markdown",
   "metadata": {},
   "source": [
    "create a stacked lstm model one after the other layer model"
   ]
  },
  {
   "cell_type": "code",
   "execution_count": 26,
   "metadata": {},
   "outputs": [],
   "source": [
    "from tensorflow.keras.models import Sequential\n",
    "from tensorflow.keras.layers import Dense\n",
    "from tensorflow.keras.layers import LSTM"
   ]
  },
  {
   "cell_type": "code",
   "execution_count": 28,
   "metadata": {},
   "outputs": [
    {
     "name": "stdout",
     "output_type": "stream",
     "text": [
      "WARNING:tensorflow:From c:\\Users\\HP\\anaconda3\\lib\\site-packages\\keras\\src\\backend.py:873: The name tf.get_default_graph is deprecated. Please use tf.compat.v1.get_default_graph instead.\n",
      "\n",
      "WARNING:tensorflow:From c:\\Users\\HP\\anaconda3\\lib\\site-packages\\keras\\src\\optimizers\\__init__.py:309: The name tf.train.Optimizer is deprecated. Please use tf.compat.v1.train.Optimizer instead.\n",
      "\n"
     ]
    }
   ],
   "source": [
    "model=Sequential()\n",
    "model.add(LSTM(50,return_sequences=True,input_shape=(100,1)))#X_train.shape[1],1)) 50 hidden layers\n",
    "model.add(LSTM(50,return_sequences=True))\n",
    "model.add(LSTM(50))\n",
    "model.add(Dense(1))\n",
    "model.compile(loss='mean_squared_error',optimizer='adam')"
   ]
  },
  {
   "cell_type": "code",
   "execution_count": 29,
   "metadata": {},
   "outputs": [
    {
     "name": "stdout",
     "output_type": "stream",
     "text": [
      "Epoch 1/10\n",
      "WARNING:tensorflow:From c:\\Users\\HP\\anaconda3\\lib\\site-packages\\keras\\src\\utils\\tf_utils.py:492: The name tf.ragged.RaggedTensorValue is deprecated. Please use tf.compat.v1.ragged.RaggedTensorValue instead.\n",
      "\n",
      "12/12 [==============================] - 9s 293ms/step - loss: 0.0460 - val_loss: 0.0019\n",
      "Epoch 2/10\n",
      "12/12 [==============================] - 2s 136ms/step - loss: 0.0123 - val_loss: 3.6638e-04\n",
      "Epoch 3/10\n",
      "12/12 [==============================] - 2s 145ms/step - loss: 0.0103 - val_loss: 3.4584e-04\n",
      "Epoch 4/10\n",
      "12/12 [==============================] - 2s 136ms/step - loss: 0.0089 - val_loss: 2.8763e-04\n",
      "Epoch 5/10\n",
      "12/12 [==============================] - 2s 147ms/step - loss: 0.0078 - val_loss: 4.4134e-04\n",
      "Epoch 6/10\n",
      "12/12 [==============================] - 2s 136ms/step - loss: 0.0073 - val_loss: 5.7665e-04\n",
      "Epoch 7/10\n",
      "12/12 [==============================] - 2s 128ms/step - loss: 0.0060 - val_loss: 4.6221e-04\n",
      "Epoch 8/10\n",
      "12/12 [==============================] - 1s 124ms/step - loss: 0.0060 - val_loss: 2.7174e-04\n",
      "Epoch 9/10\n",
      "12/12 [==============================] - 2s 128ms/step - loss: 0.0047 - val_loss: 3.8228e-04\n",
      "Epoch 10/10\n",
      "12/12 [==============================] - 2s 131ms/step - loss: 0.0047 - val_loss: 6.2137e-04\n"
     ]
    },
    {
     "data": {
      "text/plain": [
       "<keras.src.callbacks.History at 0x1710bcd2680>"
      ]
     },
     "execution_count": 29,
     "metadata": {},
     "output_type": "execute_result"
    }
   ],
   "source": [
    "model.fit(X_train,y_train,validation_data=(X_test,y_test),epochs=10,batch_size=64,verbose=1)"
   ]
  },
  {
   "cell_type": "code",
   "execution_count": null,
   "metadata": {},
   "outputs": [],
   "source": [
    "#predict the test data and print the output for that we have to predict the values in test and train data both"
   ]
  },
  {
   "cell_type": "code",
   "execution_count": 30,
   "metadata": {},
   "outputs": [
    {
     "name": "stdout",
     "output_type": "stream",
     "text": [
      "23/23 [==============================] - 2s 39ms/step\n",
      "11/11 [==============================] - 0s 37ms/step\n"
     ]
    }
   ],
   "source": [
    "\n",
    "train_predict=model.predict(X_train)\n",
    "test_predict=model.predict(X_test)"
   ]
  },
  {
   "cell_type": "code",
   "execution_count": 31,
   "metadata": {},
   "outputs": [],
   "source": [
    "#scale back to previous form \n",
    "#train predict is output for train dataset\n",
    "train_predict=scaler.inverse_transform(train_predict)\n",
    "test_predict=scaler.inverse_transform(test_predict)"
   ]
  },
  {
   "cell_type": "code",
   "execution_count": 32,
   "metadata": {},
   "outputs": [
    {
     "data": {
      "text/plain": [
       "223.33144976160472"
      ]
     },
     "execution_count": 32,
     "metadata": {},
     "output_type": "execute_result"
    }
   ],
   "source": [
    "#calculate the rmse performance metrics\n",
    "import math\n",
    "from sklearn.metrics import mean_squared_error\n",
    "math.sqrt(mean_squared_error(y_train,train_predict))"
   ]
  },
  {
   "cell_type": "code",
   "execution_count": 33,
   "metadata": {},
   "outputs": [
    {
     "data": {
      "text/plain": [
       "175.4991758417661"
      ]
     },
     "execution_count": 33,
     "metadata": {},
     "output_type": "execute_result"
    }
   ],
   "source": [
    "math.sqrt(mean_squared_error(y_test,test_predict))"
   ]
  },
  {
   "cell_type": "code",
   "execution_count": 34,
   "metadata": {},
   "outputs": [
    {
     "data": {
      "image/png": "[encoded data removed]",
      "text/plain": [
       "<Figure size 640x480 with 1 Axes>"
      ]
     },
     "metadata": {},
     "output_type": "display_data"
    }
   ],
   "source": [
    "### Plotting \n",
    "# shift train predictions for plotting\n",
    "look_back=100\n",
    "trainPredictPlot = numpy.empty_like(df1)\n",
    "trainPredictPlot[:, :] = np.nan\n",
    "trainPredictPlot[look_back:len(train_predict)+look_back, :] = train_predict\n",
    "# shift test predictions for plotting\n",
    "testPredictPlot = numpy.empty_like(df1)\n",
    "testPredictPlot[:, :] = numpy.nan\n",
    "testPredictPlot[len(train_predict)+(look_back*2)+1:len(df1)-1, :] = test_predict\n",
    "# plot baseline and predictions\n",
    "plt.plot(scaler.inverse_transform(df1))\n",
    "plt.plot(trainPredictPlot)\n",
    "plt.plot(testPredictPlot)\n",
    "plt.show()"
   ]
  },
  {
   "cell_type": "markdown",
   "metadata": {},
   "source": [
    "predict the future 30 days and plot the output "
   ]
  },
  {
   "cell_type": "code",
   "execution_count": 35,
   "metadata": {},
   "outputs": [
    {
     "data": {
      "text/plain": [
       "440"
      ]
     },
     "execution_count": 35,
     "metadata": {},
     "output_type": "execute_result"
    }
   ],
   "source": [
    "len(test_data)"
   ]
  },
  {
   "cell_type": "code",
   "execution_count": 36,
   "metadata": {},
   "outputs": [
    {
     "data": {
      "text/plain": [
       "(1, 99)"
      ]
     },
     "execution_count": 36,
     "metadata": {},
     "output_type": "execute_result"
    }
   ],
   "source": [
    "x_input=test_data[341:].reshape(1,-1)\n",
    "x_input.shape"
   ]
  },
  {
   "cell_type": "code",
   "execution_count": 37,
   "metadata": {},
   "outputs": [],
   "source": [
    "temp_input=list(x_input)\n",
    "temp_input=temp_input[0].tolist()"
   ]
  },
  {
   "cell_type": "code",
   "execution_count": 38,
   "metadata": {},
   "outputs": [
    {
     "data": {
      "text/plain": [
       "[0.19053224796493418,\n",
       " 0.1771321227301189,\n",
       " 0.17868503443957418,\n",
       " 0.18164057608015027,\n",
       " 0.17397620538509706,\n",
       " 0.16874139010644956,\n",
       " 0.17257357545397617,\n",
       " 0.17074514715090788,\n",
       " 0.17815904821540385,\n",
       " 0.18091421415153408,\n",
       " 0.17194740137758296,\n",
       " 0.16804007514088914,\n",
       " 0.17019411396368184,\n",
       " 0.173425172197871,\n",
       " 0.16310582341891044,\n",
       " 0.15927363807138384,\n",
       " 0.15992485911083276,\n",
       " 0.16122730118973072,\n",
       " 0.16758922980588598,\n",
       " 0.16420788979336254,\n",
       " 0.1673638071383844,\n",
       " 0.17049467752035058,\n",
       " 0.17695679398872882,\n",
       " 0.18071383844708827,\n",
       " 0.17921102066374445,\n",
       " 0.18274264245460237,\n",
       " 0.1850219160926737,\n",
       " 0.18036318096430803,\n",
       " 0.18003757044458357,\n",
       " 0.17610519724483403,\n",
       " 0.17282404508453347,\n",
       " 0.17187226048841575,\n",
       " 0.1654101440200375,\n",
       " 0.1657107075767063,\n",
       " 0.1668127739511584,\n",
       " 0.16095178459611764,\n",
       " 0.15040701314965554,\n",
       " 0.1537382592360676,\n",
       " 0.15892298058860355,\n",
       " 0.16012523481527863,\n",
       " 0.16814026299311202,\n",
       " 0.17715716969317463,\n",
       " 0.17485284909204757,\n",
       " 0.1813149655604257,\n",
       " 0.18780212899185966,\n",
       " 0.19048215403882274,\n",
       " 0.1892798998121477,\n",
       " 0.19927363807138382,\n",
       " 0.19526612398246712,\n",
       " 0.20187852222917968,\n",
       " 0.20330619912335623,\n",
       " 0.2075641828428303,\n",
       " 0.2075140889167188,\n",
       " 0.21192235441452717,\n",
       " 0.20989355040701307,\n",
       " 0.211571696931747,\n",
       " 0.20821540388227922,\n",
       " 0.2077645585472761,\n",
       " 0.2092924232936756,\n",
       " 0.20671258609893545,\n",
       " 0.20816530995616772,\n",
       " 0.2113963681903569,\n",
       " 0.20686286787726987,\n",
       " 0.21685660613650587,\n",
       " 0.21410144020037564,\n",
       " 0.21898559799624295,\n",
       " 0.22259236067626798,\n",
       " 0.21625547902316838,\n",
       " 0.22008766437069505,\n",
       " 0.2282279273638071,\n",
       " 0.22860363180964305,\n",
       " 0.2272510958046336,\n",
       " 0.22304320601127103,\n",
       " 0.22567313713212267,\n",
       " 0.2203882279273638,\n",
       " 0.22001252348152783,\n",
       " 0.21730745147150904,\n",
       " 0.21592986850344392,\n",
       " 0.21618033813400123,\n",
       " 0.2172573575453976,\n",
       " 0.21462742642454596,\n",
       " 0.19737006887914832,\n",
       " 0.19388854101440195,\n",
       " 0.18802755165936125,\n",
       " 0.18619912335629302,\n",
       " 0.1971696931747025,\n",
       " 0.19611772072636185,\n",
       " 0.1987476518472135,\n",
       " 0.19724483406386972,\n",
       " 0.19807138384470874,\n",
       " 0.19233562930494674,\n",
       " 0.18995616781465247,\n",
       " 0.20485911083281144,\n",
       " 0.21219787100814025,\n",
       " 0.21803381340012518,\n",
       " 0.2212648716343143,\n",
       " 0.21956167814652466,\n",
       " 0.2187351283656856,\n",
       " 0.21435190983093294]"
      ]
     },
     "execution_count": 38,
     "metadata": {},
     "output_type": "execute_result"
    }
   ],
   "source": [
    "temp_input   #previous 100 days data"
   ]
  },
  {
   "cell_type": "code",
   "execution_count": 41,
   "metadata": {},
   "outputs": [
    {
     "name": "stdout",
     "output_type": "stream",
     "text": [
      "[0.23491018]\n",
      "100\n",
      "1 day input [0.17713212 0.17868503 0.18164058 0.17397621 0.16874139 0.17257358\n",
      " 0.17074515 0.17815905 0.18091421 0.1719474  0.16804008 0.17019411\n",
      " 0.17342517 0.16310582 0.15927364 0.15992486 0.1612273  0.16758923\n",
      " 0.16420789 0.16736381 0.17049468 0.17695679 0.18071384 0.17921102\n",
      " 0.18274264 0.18502192 0.18036318 0.18003757 0.1761052  0.17282405\n",
      " 0.17187226 0.16541014 0.16571071 0.16681277 0.16095178 0.15040701\n",
      " 0.15373826 0.15892298 0.16012523 0.16814026 0.17715717 0.17485285\n",
      " 0.18131497 0.18780213 0.19048215 0.1892799  0.19927364 0.19526612\n",
      " 0.20187852 0.2033062  0.20756418 0.20751409 0.21192235 0.20989355\n",
      " 0.2115717  0.2082154  0.20776456 0.20929242 0.20671259 0.20816531\n",
      " 0.21139637 0.20686287 0.21685661 0.21410144 0.2189856  0.22259236\n",
      " 0.21625548 0.22008766 0.22822793 0.22860363 0.2272511  0.22304321\n",
      " 0.22567314 0.22038823 0.22001252 0.21730745 0.21592987 0.21618034\n",
      " 0.21725736 0.21462743 0.19737007 0.19388854 0.18802755 0.18619912\n",
      " 0.19716969 0.19611772 0.19874765 0.19724483 0.19807138 0.19233563\n",
      " 0.18995617 0.20485911 0.21219787 0.21803381 0.22126487 0.21956168\n",
      " 0.21873513 0.21435191 0.23491018]\n",
      "1 day output [[0.23855118]]\n",
      "2 day input [0.17868503 0.18164058 0.17397621 0.16874139 0.17257358 0.17074515\n",
      " 0.17815905 0.18091421 0.1719474  0.16804008 0.17019411 0.17342517\n",
      " 0.16310582 0.15927364 0.15992486 0.1612273  0.16758923 0.16420789\n",
      " 0.16736381 0.17049468 0.17695679 0.18071384 0.17921102 0.18274264\n",
      " 0.18502192 0.18036318 0.18003757 0.1761052  0.17282405 0.17187226\n",
      " 0.16541014 0.16571071 0.16681277 0.16095178 0.15040701 0.15373826\n",
      " 0.15892298 0.16012523 0.16814026 0.17715717 0.17485285 0.18131497\n",
      " 0.18780213 0.19048215 0.1892799  0.19927364 0.19526612 0.20187852\n",
      " 0.2033062  0.20756418 0.20751409 0.21192235 0.20989355 0.2115717\n",
      " 0.2082154  0.20776456 0.20929242 0.20671259 0.20816531 0.21139637\n",
      " 0.20686287 0.21685661 0.21410144 0.2189856  0.22259236 0.21625548\n",
      " 0.22008766 0.22822793 0.22860363 0.2272511  0.22304321 0.22567314\n",
      " 0.22038823 0.22001252 0.21730745 0.21592987 0.21618034 0.21725736\n",
      " 0.21462743 0.19737007 0.19388854 0.18802755 0.18619912 0.19716969\n",
      " 0.19611772 0.19874765 0.19724483 0.19807138 0.19233563 0.18995617\n",
      " 0.20485911 0.21219787 0.21803381 0.22126487 0.21956168 0.21873513\n",
      " 0.21435191 0.23491018 0.23855118]\n",
      "2 day output [[0.24259804]]\n",
      "3 day input [0.18164058 0.17397621 0.16874139 0.17257358 0.17074515 0.17815905\n",
      " 0.18091421 0.1719474  0.16804008 0.17019411 0.17342517 0.16310582\n",
      " 0.15927364 0.15992486 0.1612273  0.16758923 0.16420789 0.16736381\n",
      " 0.17049468 0.17695679 0.18071384 0.17921102 0.18274264 0.18502192\n",
      " 0.18036318 0.18003757 0.1761052  0.17282405 0.17187226 0.16541014\n",
      " 0.16571071 0.16681277 0.16095178 0.15040701 0.15373826 0.15892298\n",
      " 0.16012523 0.16814026 0.17715717 0.17485285 0.18131497 0.18780213\n",
      " 0.19048215 0.1892799  0.19927364 0.19526612 0.20187852 0.2033062\n",
      " 0.20756418 0.20751409 0.21192235 0.20989355 0.2115717  0.2082154\n",
      " 0.20776456 0.20929242 0.20671259 0.20816531 0.21139637 0.20686287\n",
      " 0.21685661 0.21410144 0.2189856  0.22259236 0.21625548 0.22008766\n",
      " 0.22822793 0.22860363 0.2272511  0.22304321 0.22567314 0.22038823\n",
      " 0.22001252 0.21730745 0.21592987 0.21618034 0.21725736 0.21462743\n",
      " 0.19737007 0.19388854 0.18802755 0.18619912 0.19716969 0.19611772\n",
      " 0.19874765 0.19724483 0.19807138 0.19233563 0.18995617 0.20485911\n",
      " 0.21219787 0.21803381 0.22126487 0.21956168 0.21873513 0.21435191\n",
      " 0.23491018 0.23855118 0.24259804]\n",
      "3 day output [[0.24705239]]\n",
      "4 day input [0.17397621 0.16874139 0.17257358 0.17074515 0.17815905 0.18091421\n",
      " 0.1719474  0.16804008 0.17019411 0.17342517 0.16310582 0.15927364\n",
      " 0.15992486 0.1612273  0.16758923 0.16420789 0.16736381 0.17049468\n",
      " 0.17695679 0.18071384 0.17921102 0.18274264 0.18502192 0.18036318\n",
      " 0.18003757 0.1761052  0.17282405 0.17187226 0.16541014 0.16571071\n",
      " 0.16681277 0.16095178 0.15040701 0.15373826 0.15892298 0.16012523\n",
      " 0.16814026 0.17715717 0.17485285 0.18131497 0.18780213 0.19048215\n",
      " 0.1892799  0.19927364 0.19526612 0.20187852 0.2033062  0.20756418\n",
      " 0.20751409 0.21192235 0.20989355 0.2115717  0.2082154  0.20776456\n",
      " 0.20929242 0.20671259 0.20816531 0.21139637 0.20686287 0.21685661\n",
      " 0.21410144 0.2189856  0.22259236 0.21625548 0.22008766 0.22822793\n",
      " 0.22860363 0.2272511  0.22304321 0.22567314 0.22038823 0.22001252\n",
      " 0.21730745 0.21592987 0.21618034 0.21725736 0.21462743 0.19737007\n",
      " 0.19388854 0.18802755 0.18619912 0.19716969 0.19611772 0.19874765\n",
      " 0.19724483 0.19807138 0.19233563 0.18995617 0.20485911 0.21219787\n",
      " 0.21803381 0.22126487 0.21956168 0.21873513 0.21435191 0.23491018\n",
      " 0.23855118 0.24259804 0.24705239]\n",
      "4 day output [[0.25187972]]\n",
      "5 day input [0.16874139 0.17257358 0.17074515 0.17815905 0.18091421 0.1719474\n",
      " 0.16804008 0.17019411 0.17342517 0.16310582 0.15927364 0.15992486\n",
      " 0.1612273  0.16758923 0.16420789 0.16736381 0.17049468 0.17695679\n",
      " 0.18071384 0.17921102 0.18274264 0.18502192 0.18036318 0.18003757\n",
      " 0.1761052  0.17282405 0.17187226 0.16541014 0.16571071 0.16681277\n",
      " 0.16095178 0.15040701 0.15373826 0.15892298 0.16012523 0.16814026\n",
      " 0.17715717 0.17485285 0.18131497 0.18780213 0.19048215 0.1892799\n",
      " 0.19927364 0.19526612 0.20187852 0.2033062  0.20756418 0.20751409\n",
      " 0.21192235 0.20989355 0.2115717  0.2082154  0.20776456 0.20929242\n",
      " 0.20671259 0.20816531 0.21139637 0.20686287 0.21685661 0.21410144\n",
      " 0.2189856  0.22259236 0.21625548 0.22008766 0.22822793 0.22860363\n",
      " 0.2272511  0.22304321 0.22567314 0.22038823 0.22001252 0.21730745\n",
      " 0.21592987 0.21618034 0.21725736 0.21462743 0.19737007 0.19388854\n",
      " 0.18802755 0.18619912 0.19716969 0.19611772 0.19874765 0.19724483\n",
      " 0.19807138 0.19233563 0.18995617 0.20485911 0.21219787 0.21803381\n",
      " 0.22126487 0.21956168 0.21873513 0.21435191 0.23491018 0.23855118\n",
      " 0.24259804 0.24705239 0.25187972]\n",
      "5 day output [[0.25703067]]\n",
      "6 day input [0.17257358 0.17074515 0.17815905 0.18091421 0.1719474  0.16804008\n",
      " 0.17019411 0.17342517 0.16310582 0.15927364 0.15992486 0.1612273\n",
      " 0.16758923 0.16420789 0.16736381 0.17049468 0.17695679 0.18071384\n",
      " 0.17921102 0.18274264 0.18502192 0.18036318 0.18003757 0.1761052\n",
      " 0.17282405 0.17187226 0.16541014 0.16571071 0.16681277 0.16095178\n",
      " 0.15040701 0.15373826 0.15892298 0.16012523 0.16814026 0.17715717\n",
      " 0.17485285 0.18131497 0.18780213 0.19048215 0.1892799  0.19927364\n",
      " 0.19526612 0.20187852 0.2033062  0.20756418 0.20751409 0.21192235\n",
      " 0.20989355 0.2115717  0.2082154  0.20776456 0.20929242 0.20671259\n",
      " 0.20816531 0.21139637 0.20686287 0.21685661 0.21410144 0.2189856\n",
      " 0.22259236 0.21625548 0.22008766 0.22822793 0.22860363 0.2272511\n",
      " 0.22304321 0.22567314 0.22038823 0.22001252 0.21730745 0.21592987\n",
      " 0.21618034 0.21725736 0.21462743 0.19737007 0.19388854 0.18802755\n",
      " 0.18619912 0.19716969 0.19611772 0.19874765 0.19724483 0.19807138\n",
      " 0.19233563 0.18995617 0.20485911 0.21219787 0.21803381 0.22126487\n",
      " 0.21956168 0.21873513 0.21435191 0.23491018 0.23855118 0.24259804\n",
      " 0.24705239 0.25187972 0.25703067]\n",
      "6 day output [[0.2624552]]\n",
      "7 day input [0.17074515 0.17815905 0.18091421 0.1719474  0.16804008 0.17019411\n",
      " 0.17342517 0.16310582 0.15927364 0.15992486 0.1612273  0.16758923\n",
      " 0.16420789 0.16736381 0.17049468 0.17695679 0.18071384 0.17921102\n",
      " 0.18274264 0.18502192 0.18036318 0.18003757 0.1761052  0.17282405\n",
      " 0.17187226 0.16541014 0.16571071 0.16681277 0.16095178 0.15040701\n",
      " 0.15373826 0.15892298 0.16012523 0.16814026 0.17715717 0.17485285\n",
      " 0.18131497 0.18780213 0.19048215 0.1892799  0.19927364 0.19526612\n",
      " 0.20187852 0.2033062  0.20756418 0.20751409 0.21192235 0.20989355\n",
      " 0.2115717  0.2082154  0.20776456 0.20929242 0.20671259 0.20816531\n",
      " 0.21139637 0.20686287 0.21685661 0.21410144 0.2189856  0.22259236\n",
      " 0.21625548 0.22008766 0.22822793 0.22860363 0.2272511  0.22304321\n",
      " 0.22567314 0.22038823 0.22001252 0.21730745 0.21592987 0.21618034\n",
      " 0.21725736 0.21462743 0.19737007 0.19388854 0.18802755 0.18619912\n",
      " 0.19716969 0.19611772 0.19874765 0.19724483 0.19807138 0.19233563\n",
      " 0.18995617 0.20485911 0.21219787 0.21803381 0.22126487 0.21956168\n",
      " 0.21873513 0.21435191 0.23491018 0.23855118 0.24259804 0.24705239\n",
      " 0.25187972 0.25703067 0.2624552 ]\n",
      "7 day output [[0.26811007]]\n",
      "8 day input [0.17815905 0.18091421 0.1719474  0.16804008 0.17019411 0.17342517\n",
      " 0.16310582 0.15927364 0.15992486 0.1612273  0.16758923 0.16420789\n",
      " 0.16736381 0.17049468 0.17695679 0.18071384 0.17921102 0.18274264\n",
      " 0.18502192 0.18036318 0.18003757 0.1761052  0.17282405 0.17187226\n",
      " 0.16541014 0.16571071 0.16681277 0.16095178 0.15040701 0.15373826\n",
      " 0.15892298 0.16012523 0.16814026 0.17715717 0.17485285 0.18131497\n",
      " 0.18780213 0.19048215 0.1892799  0.19927364 0.19526612 0.20187852\n",
      " 0.2033062  0.20756418 0.20751409 0.21192235 0.20989355 0.2115717\n",
      " 0.2082154  0.20776456 0.20929242 0.20671259 0.20816531 0.21139637\n",
      " 0.20686287 0.21685661 0.21410144 0.2189856  0.22259236 0.21625548\n",
      " 0.22008766 0.22822793 0.22860363 0.2272511  0.22304321 0.22567314\n",
      " 0.22038823 0.22001252 0.21730745 0.21592987 0.21618034 0.21725736\n",
      " 0.21462743 0.19737007 0.19388854 0.18802755 0.18619912 0.19716969\n",
      " 0.19611772 0.19874765 0.19724483 0.19807138 0.19233563 0.18995617\n",
      " 0.20485911 0.21219787 0.21803381 0.22126487 0.21956168 0.21873513\n",
      " 0.21435191 0.23491018 0.23855118 0.24259804 0.24705239 0.25187972\n",
      " 0.25703067 0.2624552  0.26811007]\n",
      "8 day output [[0.2739616]]\n",
      "9 day input [0.18091421 0.1719474  0.16804008 0.17019411 0.17342517 0.16310582\n",
      " 0.15927364 0.15992486 0.1612273  0.16758923 0.16420789 0.16736381\n",
      " 0.17049468 0.17695679 0.18071384 0.17921102 0.18274264 0.18502192\n",
      " 0.18036318 0.18003757 0.1761052  0.17282405 0.17187226 0.16541014\n",
      " 0.16571071 0.16681277 0.16095178 0.15040701 0.15373826 0.15892298\n",
      " 0.16012523 0.16814026 0.17715717 0.17485285 0.18131497 0.18780213\n",
      " 0.19048215 0.1892799  0.19927364 0.19526612 0.20187852 0.2033062\n",
      " 0.20756418 0.20751409 0.21192235 0.20989355 0.2115717  0.2082154\n",
      " 0.20776456 0.20929242 0.20671259 0.20816531 0.21139637 0.20686287\n",
      " 0.21685661 0.21410144 0.2189856  0.22259236 0.21625548 0.22008766\n",
      " 0.22822793 0.22860363 0.2272511  0.22304321 0.22567314 0.22038823\n",
      " 0.22001252 0.21730745 0.21592987 0.21618034 0.21725736 0.21462743\n",
      " 0.19737007 0.19388854 0.18802755 0.18619912 0.19716969 0.19611772\n",
      " 0.19874765 0.19724483 0.19807138 0.19233563 0.18995617 0.20485911\n",
      " 0.21219787 0.21803381 0.22126487 0.21956168 0.21873513 0.21435191\n",
      " 0.23491018 0.23855118 0.24259804 0.24705239 0.25187972 0.25703067\n",
      " 0.2624552  0.26811007 0.2739616 ]\n",
      "9 day output [[0.2799859]]\n",
      "10 day input [0.1719474  0.16804008 0.17019411 0.17342517 0.16310582 0.15927364\n",
      " 0.15992486 0.1612273  0.16758923 0.16420789 0.16736381 0.17049468\n",
      " 0.17695679 0.18071384 0.17921102 0.18274264 0.18502192 0.18036318\n",
      " 0.18003757 0.1761052  0.17282405 0.17187226 0.16541014 0.16571071\n",
      " 0.16681277 0.16095178 0.15040701 0.15373826 0.15892298 0.16012523\n",
      " 0.16814026 0.17715717 0.17485285 0.18131497 0.18780213 0.19048215\n",
      " 0.1892799  0.19927364 0.19526612 0.20187852 0.2033062  0.20756418\n",
      " 0.20751409 0.21192235 0.20989355 0.2115717  0.2082154  0.20776456\n",
      " 0.20929242 0.20671259 0.20816531 0.21139637 0.20686287 0.21685661\n",
      " 0.21410144 0.2189856  0.22259236 0.21625548 0.22008766 0.22822793\n",
      " 0.22860363 0.2272511  0.22304321 0.22567314 0.22038823 0.22001252\n",
      " 0.21730745 0.21592987 0.21618034 0.21725736 0.21462743 0.19737007\n",
      " 0.19388854 0.18802755 0.18619912 0.19716969 0.19611772 0.19874765\n",
      " 0.19724483 0.19807138 0.19233563 0.18995617 0.20485911 0.21219787\n",
      " 0.21803381 0.22126487 0.21956168 0.21873513 0.21435191 0.23491018\n",
      " 0.23855118 0.24259804 0.24705239 0.25187972 0.25703067 0.2624552\n",
      " 0.26811007 0.2739616  0.2799859 ]\n",
      "10 day output [[0.28616792]]\n",
      "11 day input [0.16804008 0.17019411 0.17342517 0.16310582 0.15927364 0.15992486\n",
      " 0.1612273  0.16758923 0.16420789 0.16736381 0.17049468 0.17695679\n",
      " 0.18071384 0.17921102 0.18274264 0.18502192 0.18036318 0.18003757\n",
      " 0.1761052  0.17282405 0.17187226 0.16541014 0.16571071 0.16681277\n",
      " 0.16095178 0.15040701 0.15373826 0.15892298 0.16012523 0.16814026\n",
      " 0.17715717 0.17485285 0.18131497 0.18780213 0.19048215 0.1892799\n",
      " 0.19927364 0.19526612 0.20187852 0.2033062  0.20756418 0.20751409\n",
      " 0.21192235 0.20989355 0.2115717  0.2082154  0.20776456 0.20929242\n",
      " 0.20671259 0.20816531 0.21139637 0.20686287 0.21685661 0.21410144\n",
      " 0.2189856  0.22259236 0.21625548 0.22008766 0.22822793 0.22860363\n",
      " 0.2272511  0.22304321 0.22567314 0.22038823 0.22001252 0.21730745\n",
      " 0.21592987 0.21618034 0.21725736 0.21462743 0.19737007 0.19388854\n",
      " 0.18802755 0.18619912 0.19716969 0.19611772 0.19874765 0.19724483\n",
      " 0.19807138 0.19233563 0.18995617 0.20485911 0.21219787 0.21803381\n",
      " 0.22126487 0.21956168 0.21873513 0.21435191 0.23491018 0.23855118\n",
      " 0.24259804 0.24705239 0.25187972 0.25703067 0.2624552  0.26811007\n",
      " 0.2739616  0.2799859  0.28616792]\n",
      "11 day output [[0.29249898]]\n",
      "12 day input [0.17019411 0.17342517 0.16310582 0.15927364 0.15992486 0.1612273\n",
      " 0.16758923 0.16420789 0.16736381 0.17049468 0.17695679 0.18071384\n",
      " 0.17921102 0.18274264 0.18502192 0.18036318 0.18003757 0.1761052\n",
      " 0.17282405 0.17187226 0.16541014 0.16571071 0.16681277 0.16095178\n",
      " 0.15040701 0.15373826 0.15892298 0.16012523 0.16814026 0.17715717\n",
      " 0.17485285 0.18131497 0.18780213 0.19048215 0.1892799  0.19927364\n",
      " 0.19526612 0.20187852 0.2033062  0.20756418 0.20751409 0.21192235\n",
      " 0.20989355 0.2115717  0.2082154  0.20776456 0.20929242 0.20671259\n",
      " 0.20816531 0.21139637 0.20686287 0.21685661 0.21410144 0.2189856\n",
      " 0.22259236 0.21625548 0.22008766 0.22822793 0.22860363 0.2272511\n",
      " 0.22304321 0.22567314 0.22038823 0.22001252 0.21730745 0.21592987\n",
      " 0.21618034 0.21725736 0.21462743 0.19737007 0.19388854 0.18802755\n",
      " 0.18619912 0.19716969 0.19611772 0.19874765 0.19724483 0.19807138\n",
      " 0.19233563 0.18995617 0.20485911 0.21219787 0.21803381 0.22126487\n",
      " 0.21956168 0.21873513 0.21435191 0.23491018 0.23855118 0.24259804\n",
      " 0.24705239 0.25187972 0.25703067 0.2624552  0.26811007 0.2739616\n",
      " 0.2799859  0.28616792 0.29249898]\n",
      "12 day output [[0.298975]]\n",
      "13 day input [0.17342517 0.16310582 0.15927364 0.15992486 0.1612273  0.16758923\n",
      " 0.16420789 0.16736381 0.17049468 0.17695679 0.18071384 0.17921102\n",
      " 0.18274264 0.18502192 0.18036318 0.18003757 0.1761052  0.17282405\n",
      " 0.17187226 0.16541014 0.16571071 0.16681277 0.16095178 0.15040701\n",
      " 0.15373826 0.15892298 0.16012523 0.16814026 0.17715717 0.17485285\n",
      " 0.18131497 0.18780213 0.19048215 0.1892799  0.19927364 0.19526612\n",
      " 0.20187852 0.2033062  0.20756418 0.20751409 0.21192235 0.20989355\n",
      " 0.2115717  0.2082154  0.20776456 0.20929242 0.20671259 0.20816531\n",
      " 0.21139637 0.20686287 0.21685661 0.21410144 0.2189856  0.22259236\n",
      " 0.21625548 0.22008766 0.22822793 0.22860363 0.2272511  0.22304321\n",
      " 0.22567314 0.22038823 0.22001252 0.21730745 0.21592987 0.21618034\n",
      " 0.21725736 0.21462743 0.19737007 0.19388854 0.18802755 0.18619912\n",
      " 0.19716969 0.19611772 0.19874765 0.19724483 0.19807138 0.19233563\n",
      " 0.18995617 0.20485911 0.21219787 0.21803381 0.22126487 0.21956168\n",
      " 0.21873513 0.21435191 0.23491018 0.23855118 0.24259804 0.24705239\n",
      " 0.25187972 0.25703067 0.2624552  0.26811007 0.2739616  0.2799859\n",
      " 0.28616792 0.29249898 0.29897499]\n",
      "13 day output [[0.3055949]]\n",
      "14 day input [0.16310582 0.15927364 0.15992486 0.1612273  0.16758923 0.16420789\n",
      " 0.16736381 0.17049468 0.17695679 0.18071384 0.17921102 0.18274264\n",
      " 0.18502192 0.18036318 0.18003757 0.1761052  0.17282405 0.17187226\n",
      " 0.16541014 0.16571071 0.16681277 0.16095178 0.15040701 0.15373826\n",
      " 0.15892298 0.16012523 0.16814026 0.17715717 0.17485285 0.18131497\n",
      " 0.18780213 0.19048215 0.1892799  0.19927364 0.19526612 0.20187852\n",
      " 0.2033062  0.20756418 0.20751409 0.21192235 0.20989355 0.2115717\n",
      " 0.2082154  0.20776456 0.20929242 0.20671259 0.20816531 0.21139637\n",
      " 0.20686287 0.21685661 0.21410144 0.2189856  0.22259236 0.21625548\n",
      " 0.22008766 0.22822793 0.22860363 0.2272511  0.22304321 0.22567314\n",
      " 0.22038823 0.22001252 0.21730745 0.21592987 0.21618034 0.21725736\n",
      " 0.21462743 0.19737007 0.19388854 0.18802755 0.18619912 0.19716969\n",
      " 0.19611772 0.19874765 0.19724483 0.19807138 0.19233563 0.18995617\n",
      " 0.20485911 0.21219787 0.21803381 0.22126487 0.21956168 0.21873513\n",
      " 0.21435191 0.23491018 0.23855118 0.24259804 0.24705239 0.25187972\n",
      " 0.25703067 0.2624552  0.26811007 0.2739616  0.2799859  0.28616792\n",
      " 0.29249898 0.29897499 0.30559489]\n",
      "14 day output [[0.31235906]]\n",
      "15 day input [0.15927364 0.15992486 0.1612273  0.16758923 0.16420789 0.16736381\n",
      " 0.17049468 0.17695679 0.18071384 0.17921102 0.18274264 0.18502192\n",
      " 0.18036318 0.18003757 0.1761052  0.17282405 0.17187226 0.16541014\n",
      " 0.16571071 0.16681277 0.16095178 0.15040701 0.15373826 0.15892298\n",
      " 0.16012523 0.16814026 0.17715717 0.17485285 0.18131497 0.18780213\n",
      " 0.19048215 0.1892799  0.19927364 0.19526612 0.20187852 0.2033062\n",
      " 0.20756418 0.20751409 0.21192235 0.20989355 0.2115717  0.2082154\n",
      " 0.20776456 0.20929242 0.20671259 0.20816531 0.21139637 0.20686287\n",
      " 0.21685661 0.21410144 0.2189856  0.22259236 0.21625548 0.22008766\n",
      " 0.22822793 0.22860363 0.2272511  0.22304321 0.22567314 0.22038823\n",
      " 0.22001252 0.21730745 0.21592987 0.21618034 0.21725736 0.21462743\n",
      " 0.19737007 0.19388854 0.18802755 0.18619912 0.19716969 0.19611772\n",
      " 0.19874765 0.19724483 0.19807138 0.19233563 0.18995617 0.20485911\n",
      " 0.21219787 0.21803381 0.22126487 0.21956168 0.21873513 0.21435191\n",
      " 0.23491018 0.23855118 0.24259804 0.24705239 0.25187972 0.25703067\n",
      " 0.2624552  0.26811007 0.2739616  0.2799859  0.28616792 0.29249898\n",
      " 0.29897499 0.30559489 0.31235906]\n",
      "15 day output [[0.31926882]]\n",
      "16 day input [0.15992486 0.1612273  0.16758923 0.16420789 0.16736381 0.17049468\n",
      " 0.17695679 0.18071384 0.17921102 0.18274264 0.18502192 0.18036318\n",
      " 0.18003757 0.1761052  0.17282405 0.17187226 0.16541014 0.16571071\n",
      " 0.16681277 0.16095178 0.15040701 0.15373826 0.15892298 0.16012523\n",
      " 0.16814026 0.17715717 0.17485285 0.18131497 0.18780213 0.19048215\n",
      " 0.1892799  0.19927364 0.19526612 0.20187852 0.2033062  0.20756418\n",
      " 0.20751409 0.21192235 0.20989355 0.2115717  0.2082154  0.20776456\n",
      " 0.20929242 0.20671259 0.20816531 0.21139637 0.20686287 0.21685661\n",
      " 0.21410144 0.2189856  0.22259236 0.21625548 0.22008766 0.22822793\n",
      " 0.22860363 0.2272511  0.22304321 0.22567314 0.22038823 0.22001252\n",
      " 0.21730745 0.21592987 0.21618034 0.21725736 0.21462743 0.19737007\n",
      " 0.19388854 0.18802755 0.18619912 0.19716969 0.19611772 0.19874765\n",
      " 0.19724483 0.19807138 0.19233563 0.18995617 0.20485911 0.21219787\n",
      " 0.21803381 0.22126487 0.21956168 0.21873513 0.21435191 0.23491018\n",
      " 0.23855118 0.24259804 0.24705239 0.25187972 0.25703067 0.2624552\n",
      " 0.26811007 0.2739616  0.2799859  0.28616792 0.29249898 0.29897499\n",
      " 0.30559489 0.31235906 0.31926882]\n",
      "16 day output [[0.32632536]]\n",
      "17 day input [0.1612273  0.16758923 0.16420789 0.16736381 0.17049468 0.17695679\n",
      " 0.18071384 0.17921102 0.18274264 0.18502192 0.18036318 0.18003757\n",
      " 0.1761052  0.17282405 0.17187226 0.16541014 0.16571071 0.16681277\n",
      " 0.16095178 0.15040701 0.15373826 0.15892298 0.16012523 0.16814026\n",
      " 0.17715717 0.17485285 0.18131497 0.18780213 0.19048215 0.1892799\n",
      " 0.19927364 0.19526612 0.20187852 0.2033062  0.20756418 0.20751409\n",
      " 0.21192235 0.20989355 0.2115717  0.2082154  0.20776456 0.20929242\n",
      " 0.20671259 0.20816531 0.21139637 0.20686287 0.21685661 0.21410144\n",
      " 0.2189856  0.22259236 0.21625548 0.22008766 0.22822793 0.22860363\n",
      " 0.2272511  0.22304321 0.22567314 0.22038823 0.22001252 0.21730745\n",
      " 0.21592987 0.21618034 0.21725736 0.21462743 0.19737007 0.19388854\n",
      " 0.18802755 0.18619912 0.19716969 0.19611772 0.19874765 0.19724483\n",
      " 0.19807138 0.19233563 0.18995617 0.20485911 0.21219787 0.21803381\n",
      " 0.22126487 0.21956168 0.21873513 0.21435191 0.23491018 0.23855118\n",
      " 0.24259804 0.24705239 0.25187972 0.25703067 0.2624552  0.26811007\n",
      " 0.2739616  0.2799859  0.28616792 0.29249898 0.29897499 0.30559489\n",
      " 0.31235906 0.31926882 0.32632536]\n",
      "17 day output [[0.33352947]]\n",
      "18 day input [0.16758923 0.16420789 0.16736381 0.17049468 0.17695679 0.18071384\n",
      " 0.17921102 0.18274264 0.18502192 0.18036318 0.18003757 0.1761052\n",
      " 0.17282405 0.17187226 0.16541014 0.16571071 0.16681277 0.16095178\n",
      " 0.15040701 0.15373826 0.15892298 0.16012523 0.16814026 0.17715717\n",
      " 0.17485285 0.18131497 0.18780213 0.19048215 0.1892799  0.19927364\n",
      " 0.19526612 0.20187852 0.2033062  0.20756418 0.20751409 0.21192235\n",
      " 0.20989355 0.2115717  0.2082154  0.20776456 0.20929242 0.20671259\n",
      " 0.20816531 0.21139637 0.20686287 0.21685661 0.21410144 0.2189856\n",
      " 0.22259236 0.21625548 0.22008766 0.22822793 0.22860363 0.2272511\n",
      " 0.22304321 0.22567314 0.22038823 0.22001252 0.21730745 0.21592987\n",
      " 0.21618034 0.21725736 0.21462743 0.19737007 0.19388854 0.18802755\n",
      " 0.18619912 0.19716969 0.19611772 0.19874765 0.19724483 0.19807138\n",
      " 0.19233563 0.18995617 0.20485911 0.21219787 0.21803381 0.22126487\n",
      " 0.21956168 0.21873513 0.21435191 0.23491018 0.23855118 0.24259804\n",
      " 0.24705239 0.25187972 0.25703067 0.2624552  0.26811007 0.2739616\n",
      " 0.2799859  0.28616792 0.29249898 0.29897499 0.30559489 0.31235906\n",
      " 0.31926882 0.32632536 0.33352947]\n",
      "18 day output [[0.34088144]]\n",
      "19 day input [0.16420789 0.16736381 0.17049468 0.17695679 0.18071384 0.17921102\n",
      " 0.18274264 0.18502192 0.18036318 0.18003757 0.1761052  0.17282405\n",
      " 0.17187226 0.16541014 0.16571071 0.16681277 0.16095178 0.15040701\n",
      " 0.15373826 0.15892298 0.16012523 0.16814026 0.17715717 0.17485285\n",
      " 0.18131497 0.18780213 0.19048215 0.1892799  0.19927364 0.19526612\n",
      " 0.20187852 0.2033062  0.20756418 0.20751409 0.21192235 0.20989355\n",
      " 0.2115717  0.2082154  0.20776456 0.20929242 0.20671259 0.20816531\n",
      " 0.21139637 0.20686287 0.21685661 0.21410144 0.2189856  0.22259236\n",
      " 0.21625548 0.22008766 0.22822793 0.22860363 0.2272511  0.22304321\n",
      " 0.22567314 0.22038823 0.22001252 0.21730745 0.21592987 0.21618034\n",
      " 0.21725736 0.21462743 0.19737007 0.19388854 0.18802755 0.18619912\n",
      " 0.19716969 0.19611772 0.19874765 0.19724483 0.19807138 0.19233563\n",
      " 0.18995617 0.20485911 0.21219787 0.21803381 0.22126487 0.21956168\n",
      " 0.21873513 0.21435191 0.23491018 0.23855118 0.24259804 0.24705239\n",
      " 0.25187972 0.25703067 0.2624552  0.26811007 0.2739616  0.2799859\n",
      " 0.28616792 0.29249898 0.29897499 0.30559489 0.31235906 0.31926882\n",
      " 0.32632536 0.33352947 0.34088144]\n",
      "19 day output [[0.34838092]]\n",
      "20 day input [0.16736381 0.17049468 0.17695679 0.18071384 0.17921102 0.18274264\n",
      " 0.18502192 0.18036318 0.18003757 0.1761052  0.17282405 0.17187226\n",
      " 0.16541014 0.16571071 0.16681277 0.16095178 0.15040701 0.15373826\n",
      " 0.15892298 0.16012523 0.16814026 0.17715717 0.17485285 0.18131497\n",
      " 0.18780213 0.19048215 0.1892799  0.19927364 0.19526612 0.20187852\n",
      " 0.2033062  0.20756418 0.20751409 0.21192235 0.20989355 0.2115717\n",
      " 0.2082154  0.20776456 0.20929242 0.20671259 0.20816531 0.21139637\n",
      " 0.20686287 0.21685661 0.21410144 0.2189856  0.22259236 0.21625548\n",
      " 0.22008766 0.22822793 0.22860363 0.2272511  0.22304321 0.22567314\n",
      " 0.22038823 0.22001252 0.21730745 0.21592987 0.21618034 0.21725736\n",
      " 0.21462743 0.19737007 0.19388854 0.18802755 0.18619912 0.19716969\n",
      " 0.19611772 0.19874765 0.19724483 0.19807138 0.19233563 0.18995617\n",
      " 0.20485911 0.21219787 0.21803381 0.22126487 0.21956168 0.21873513\n",
      " 0.21435191 0.23491018 0.23855118 0.24259804 0.24705239 0.25187972\n",
      " 0.25703067 0.2624552  0.26811007 0.2739616  0.2799859  0.28616792\n",
      " 0.29249898 0.29897499 0.30559489 0.31235906 0.31926882 0.32632536\n",
      " 0.33352947 0.34088144 0.34838092]\n",
      "20 day output [[0.35602692]]\n",
      "21 day input [0.17049468 0.17695679 0.18071384 0.17921102 0.18274264 0.18502192\n",
      " 0.18036318 0.18003757 0.1761052  0.17282405 0.17187226 0.16541014\n",
      " 0.16571071 0.16681277 0.16095178 0.15040701 0.15373826 0.15892298\n",
      " 0.16012523 0.16814026 0.17715717 0.17485285 0.18131497 0.18780213\n",
      " 0.19048215 0.1892799  0.19927364 0.19526612 0.20187852 0.2033062\n",
      " 0.20756418 0.20751409 0.21192235 0.20989355 0.2115717  0.2082154\n",
      " 0.20776456 0.20929242 0.20671259 0.20816531 0.21139637 0.20686287\n",
      " 0.21685661 0.21410144 0.2189856  0.22259236 0.21625548 0.22008766\n",
      " 0.22822793 0.22860363 0.2272511  0.22304321 0.22567314 0.22038823\n",
      " 0.22001252 0.21730745 0.21592987 0.21618034 0.21725736 0.21462743\n",
      " 0.19737007 0.19388854 0.18802755 0.18619912 0.19716969 0.19611772\n",
      " 0.19874765 0.19724483 0.19807138 0.19233563 0.18995617 0.20485911\n",
      " 0.21219787 0.21803381 0.22126487 0.21956168 0.21873513 0.21435191\n",
      " 0.23491018 0.23855118 0.24259804 0.24705239 0.25187972 0.25703067\n",
      " 0.2624552  0.26811007 0.2739616  0.2799859  0.28616792 0.29249898\n",
      " 0.29897499 0.30559489 0.31235906 0.31926882 0.32632536 0.33352947\n",
      " 0.34088144 0.34838092 0.35602692]\n",
      "21 day output [[0.36381736]]\n",
      "22 day input [0.17695679 0.18071384 0.17921102 0.18274264 0.18502192 0.18036318\n",
      " 0.18003757 0.1761052  0.17282405 0.17187226 0.16541014 0.16571071\n",
      " 0.16681277 0.16095178 0.15040701 0.15373826 0.15892298 0.16012523\n",
      " 0.16814026 0.17715717 0.17485285 0.18131497 0.18780213 0.19048215\n",
      " 0.1892799  0.19927364 0.19526612 0.20187852 0.2033062  0.20756418\n",
      " 0.20751409 0.21192235 0.20989355 0.2115717  0.2082154  0.20776456\n",
      " 0.20929242 0.20671259 0.20816531 0.21139637 0.20686287 0.21685661\n",
      " 0.21410144 0.2189856  0.22259236 0.21625548 0.22008766 0.22822793\n",
      " 0.22860363 0.2272511  0.22304321 0.22567314 0.22038823 0.22001252\n",
      " 0.21730745 0.21592987 0.21618034 0.21725736 0.21462743 0.19737007\n",
      " 0.19388854 0.18802755 0.18619912 0.19716969 0.19611772 0.19874765\n",
      " 0.19724483 0.19807138 0.19233563 0.18995617 0.20485911 0.21219787\n",
      " 0.21803381 0.22126487 0.21956168 0.21873513 0.21435191 0.23491018\n",
      " 0.23855118 0.24259804 0.24705239 0.25187972 0.25703067 0.2624552\n",
      " 0.26811007 0.2739616  0.2799859  0.28616792 0.29249898 0.29897499\n",
      " 0.30559489 0.31235906 0.31926882 0.32632536 0.33352947 0.34088144\n",
      " 0.34838092 0.35602692 0.36381736]\n",
      "22 day output [[0.37174976]]\n",
      "23 day input [0.18071384 0.17921102 0.18274264 0.18502192 0.18036318 0.18003757\n",
      " 0.1761052  0.17282405 0.17187226 0.16541014 0.16571071 0.16681277\n",
      " 0.16095178 0.15040701 0.15373826 0.15892298 0.16012523 0.16814026\n",
      " 0.17715717 0.17485285 0.18131497 0.18780213 0.19048215 0.1892799\n",
      " 0.19927364 0.19526612 0.20187852 0.2033062  0.20756418 0.20751409\n",
      " 0.21192235 0.20989355 0.2115717  0.2082154  0.20776456 0.20929242\n",
      " 0.20671259 0.20816531 0.21139637 0.20686287 0.21685661 0.21410144\n",
      " 0.2189856  0.22259236 0.21625548 0.22008766 0.22822793 0.22860363\n",
      " 0.2272511  0.22304321 0.22567314 0.22038823 0.22001252 0.21730745\n",
      " 0.21592987 0.21618034 0.21725736 0.21462743 0.19737007 0.19388854\n",
      " 0.18802755 0.18619912 0.19716969 0.19611772 0.19874765 0.19724483\n",
      " 0.19807138 0.19233563 0.18995617 0.20485911 0.21219787 0.21803381\n",
      " 0.22126487 0.21956168 0.21873513 0.21435191 0.23491018 0.23855118\n",
      " 0.24259804 0.24705239 0.25187972 0.25703067 0.2624552  0.26811007\n",
      " 0.2739616  0.2799859  0.28616792 0.29249898 0.29897499 0.30559489\n",
      " 0.31235906 0.31926882 0.32632536 0.33352947 0.34088144 0.34838092\n",
      " 0.35602692 0.36381736 0.37174976]\n",
      "23 day output [[0.3798204]]\n",
      "24 day input [0.17921102 0.18274264 0.18502192 0.18036318 0.18003757 0.1761052\n",
      " 0.17282405 0.17187226 0.16541014 0.16571071 0.16681277 0.16095178\n",
      " 0.15040701 0.15373826 0.15892298 0.16012523 0.16814026 0.17715717\n",
      " 0.17485285 0.18131497 0.18780213 0.19048215 0.1892799  0.19927364\n",
      " 0.19526612 0.20187852 0.2033062  0.20756418 0.20751409 0.21192235\n",
      " 0.20989355 0.2115717  0.2082154  0.20776456 0.20929242 0.20671259\n",
      " 0.20816531 0.21139637 0.20686287 0.21685661 0.21410144 0.2189856\n",
      " 0.22259236 0.21625548 0.22008766 0.22822793 0.22860363 0.2272511\n",
      " 0.22304321 0.22567314 0.22038823 0.22001252 0.21730745 0.21592987\n",
      " 0.21618034 0.21725736 0.21462743 0.19737007 0.19388854 0.18802755\n",
      " 0.18619912 0.19716969 0.19611772 0.19874765 0.19724483 0.19807138\n",
      " 0.19233563 0.18995617 0.20485911 0.21219787 0.21803381 0.22126487\n",
      " 0.21956168 0.21873513 0.21435191 0.23491018 0.23855118 0.24259804\n",
      " 0.24705239 0.25187972 0.25703067 0.2624552  0.26811007 0.2739616\n",
      " 0.2799859  0.28616792 0.29249898 0.29897499 0.30559489 0.31235906\n",
      " 0.31926882 0.32632536 0.33352947 0.34088144 0.34838092 0.35602692\n",
      " 0.36381736 0.37174976 0.37982041]\n",
      "24 day output [[0.3880248]]\n",
      "25 day input [0.18274264 0.18502192 0.18036318 0.18003757 0.1761052  0.17282405\n",
      " 0.17187226 0.16541014 0.16571071 0.16681277 0.16095178 0.15040701\n",
      " 0.15373826 0.15892298 0.16012523 0.16814026 0.17715717 0.17485285\n",
      " 0.18131497 0.18780213 0.19048215 0.1892799  0.19927364 0.19526612\n",
      " 0.20187852 0.2033062  0.20756418 0.20751409 0.21192235 0.20989355\n",
      " 0.2115717  0.2082154  0.20776456 0.20929242 0.20671259 0.20816531\n",
      " 0.21139637 0.20686287 0.21685661 0.21410144 0.2189856  0.22259236\n",
      " 0.21625548 0.22008766 0.22822793 0.22860363 0.2272511  0.22304321\n",
      " 0.22567314 0.22038823 0.22001252 0.21730745 0.21592987 0.21618034\n",
      " 0.21725736 0.21462743 0.19737007 0.19388854 0.18802755 0.18619912\n",
      " 0.19716969 0.19611772 0.19874765 0.19724483 0.19807138 0.19233563\n",
      " 0.18995617 0.20485911 0.21219787 0.21803381 0.22126487 0.21956168\n",
      " 0.21873513 0.21435191 0.23491018 0.23855118 0.24259804 0.24705239\n",
      " 0.25187972 0.25703067 0.2624552  0.26811007 0.2739616  0.2799859\n",
      " 0.28616792 0.29249898 0.29897499 0.30559489 0.31235906 0.31926882\n",
      " 0.32632536 0.33352947 0.34088144 0.34838092 0.35602692 0.36381736\n",
      " 0.37174976 0.37982041 0.38802481]\n",
      "25 day output [[0.3963576]]\n",
      "26 day input [0.18502192 0.18036318 0.18003757 0.1761052  0.17282405 0.17187226\n",
      " 0.16541014 0.16571071 0.16681277 0.16095178 0.15040701 0.15373826\n",
      " 0.15892298 0.16012523 0.16814026 0.17715717 0.17485285 0.18131497\n",
      " 0.18780213 0.19048215 0.1892799  0.19927364 0.19526612 0.20187852\n",
      " 0.2033062  0.20756418 0.20751409 0.21192235 0.20989355 0.2115717\n",
      " 0.2082154  0.20776456 0.20929242 0.20671259 0.20816531 0.21139637\n",
      " 0.20686287 0.21685661 0.21410144 0.2189856  0.22259236 0.21625548\n",
      " 0.22008766 0.22822793 0.22860363 0.2272511  0.22304321 0.22567314\n",
      " 0.22038823 0.22001252 0.21730745 0.21592987 0.21618034 0.21725736\n",
      " 0.21462743 0.19737007 0.19388854 0.18802755 0.18619912 0.19716969\n",
      " 0.19611772 0.19874765 0.19724483 0.19807138 0.19233563 0.18995617\n",
      " 0.20485911 0.21219787 0.21803381 0.22126487 0.21956168 0.21873513\n",
      " 0.21435191 0.23491018 0.23855118 0.24259804 0.24705239 0.25187972\n",
      " 0.25703067 0.2624552  0.26811007 0.2739616  0.2799859  0.28616792\n",
      " 0.29249898 0.29897499 0.30559489 0.31235906 0.31926882 0.32632536\n",
      " 0.33352947 0.34088144 0.34838092 0.35602692 0.36381736 0.37174976\n",
      " 0.37982041 0.38802481 0.3963576 ]\n",
      "26 day output [[0.40481207]]\n",
      "27 day input [0.18036318 0.18003757 0.1761052  0.17282405 0.17187226 0.16541014\n",
      " 0.16571071 0.16681277 0.16095178 0.15040701 0.15373826 0.15892298\n",
      " 0.16012523 0.16814026 0.17715717 0.17485285 0.18131497 0.18780213\n",
      " 0.19048215 0.1892799  0.19927364 0.19526612 0.20187852 0.2033062\n",
      " 0.20756418 0.20751409 0.21192235 0.20989355 0.2115717  0.2082154\n",
      " 0.20776456 0.20929242 0.20671259 0.20816531 0.21139637 0.20686287\n",
      " 0.21685661 0.21410144 0.2189856  0.22259236 0.21625548 0.22008766\n",
      " 0.22822793 0.22860363 0.2272511  0.22304321 0.22567314 0.22038823\n",
      " 0.22001252 0.21730745 0.21592987 0.21618034 0.21725736 0.21462743\n",
      " 0.19737007 0.19388854 0.18802755 0.18619912 0.19716969 0.19611772\n",
      " 0.19874765 0.19724483 0.19807138 0.19233563 0.18995617 0.20485911\n",
      " 0.21219787 0.21803381 0.22126487 0.21956168 0.21873513 0.21435191\n",
      " 0.23491018 0.23855118 0.24259804 0.24705239 0.25187972 0.25703067\n",
      " 0.2624552  0.26811007 0.2739616  0.2799859  0.28616792 0.29249898\n",
      " 0.29897499 0.30559489 0.31235906 0.31926882 0.32632536 0.33352947\n",
      " 0.34088144 0.34838092 0.35602692 0.36381736 0.37174976 0.37982041\n",
      " 0.38802481 0.3963576  0.40481207]\n",
      "27 day output [[0.4133803]]\n",
      "28 day input [0.18003757 0.1761052  0.17282405 0.17187226 0.16541014 0.16571071\n",
      " 0.16681277 0.16095178 0.15040701 0.15373826 0.15892298 0.16012523\n",
      " 0.16814026 0.17715717 0.17485285 0.18131497 0.18780213 0.19048215\n",
      " 0.1892799  0.19927364 0.19526612 0.20187852 0.2033062  0.20756418\n",
      " 0.20751409 0.21192235 0.20989355 0.2115717  0.2082154  0.20776456\n",
      " 0.20929242 0.20671259 0.20816531 0.21139637 0.20686287 0.21685661\n",
      " 0.21410144 0.2189856  0.22259236 0.21625548 0.22008766 0.22822793\n",
      " 0.22860363 0.2272511  0.22304321 0.22567314 0.22038823 0.22001252\n",
      " 0.21730745 0.21592987 0.21618034 0.21725736 0.21462743 0.19737007\n",
      " 0.19388854 0.18802755 0.18619912 0.19716969 0.19611772 0.19874765\n",
      " 0.19724483 0.19807138 0.19233563 0.18995617 0.20485911 0.21219787\n",
      " 0.21803381 0.22126487 0.21956168 0.21873513 0.21435191 0.23491018\n",
      " 0.23855118 0.24259804 0.24705239 0.25187972 0.25703067 0.2624552\n",
      " 0.26811007 0.2739616  0.2799859  0.28616792 0.29249898 0.29897499\n",
      " 0.30559489 0.31235906 0.31926882 0.32632536 0.33352947 0.34088144\n",
      " 0.34838092 0.35602692 0.36381736 0.37174976 0.37982041 0.38802481\n",
      " 0.3963576  0.40481207 0.4133803 ]\n",
      "28 day output [[0.42205298]]\n",
      "29 day input [0.1761052  0.17282405 0.17187226 0.16541014 0.16571071 0.16681277\n",
      " 0.16095178 0.15040701 0.15373826 0.15892298 0.16012523 0.16814026\n",
      " 0.17715717 0.17485285 0.18131497 0.18780213 0.19048215 0.1892799\n",
      " 0.19927364 0.19526612 0.20187852 0.2033062  0.20756418 0.20751409\n",
      " 0.21192235 0.20989355 0.2115717  0.2082154  0.20776456 0.20929242\n",
      " 0.20671259 0.20816531 0.21139637 0.20686287 0.21685661 0.21410144\n",
      " 0.2189856  0.22259236 0.21625548 0.22008766 0.22822793 0.22860363\n",
      " 0.2272511  0.22304321 0.22567314 0.22038823 0.22001252 0.21730745\n",
      " 0.21592987 0.21618034 0.21725736 0.21462743 0.19737007 0.19388854\n",
      " 0.18802755 0.18619912 0.19716969 0.19611772 0.19874765 0.19724483\n",
      " 0.19807138 0.19233563 0.18995617 0.20485911 0.21219787 0.21803381\n",
      " 0.22126487 0.21956168 0.21873513 0.21435191 0.23491018 0.23855118\n",
      " 0.24259804 0.24705239 0.25187972 0.25703067 0.2624552  0.26811007\n",
      " 0.2739616  0.2799859  0.28616792 0.29249898 0.29897499 0.30559489\n",
      " 0.31235906 0.31926882 0.32632536 0.33352947 0.34088144 0.34838092\n",
      " 0.35602692 0.36381736 0.37174976 0.37982041 0.38802481 0.3963576\n",
      " 0.40481207 0.4133803  0.42205298]\n",
      "29 day output [[0.43081963]]\n",
      "[[0.23491017520427704], [0.23855118453502655], [0.2425980418920517], [0.2470523864030838], [0.2518797218799591], [0.2570306658744812], [0.26245519518852234], [0.268110066652298], [0.27396160364151], [0.2799859046936035], [0.2861679196357727], [0.29249897599220276], [0.29897499084472656], [0.30559489130973816], [0.3123590648174286], [0.3192688226699829], [0.32632535696029663], [0.3335294723510742], [0.34088143706321716], [0.3483809232711792], [0.35602691769599915], [0.36381736397743225], [0.37174975872039795], [0.37982040643692017], [0.38802480697631836], [0.39635759592056274], [0.4048120677471161], [0.41338029503822327], [0.4220529794692993], [0.43081963062286377]]\n"
     ]
    }
   ],
   "source": [
    "# demonstrate prediction for next 10 days\n",
    "\n",
    "from numpy import array\n",
    "\n",
    "lst_output=[]\n",
    "n_steps=99\n",
    "i=0\n",
    "while(i<30):\n",
    "    \n",
    "    if(len(temp_input)>99):\n",
    "        #print(temp_input)\n",
    "        x_input=np.array(temp_input[1:])  #shifting 1 position right\n",
    "        print(\"{} day input {}\".format(i,x_input))\n",
    "        x_input=x_input.reshape(1,-1)\n",
    "        x_input = x_input.reshape((1, n_steps, 1))\n",
    "        #print(x_input)\n",
    "        yhat = model.predict(x_input, verbose=0)\n",
    "        print(\"{} day output {}\".format(i,yhat))\n",
    "        temp_input.extend(yhat[0].tolist())\n",
    "        temp_input=temp_input[1:]\n",
    "        #print(temp_input)\n",
    "        lst_output.extend(yhat.tolist())\n",
    "        i=i+1\n",
    "    else:\n",
    "        x_input = x_input.reshape((1, n_steps,1))\n",
    "        yhat = model.predict(x_input, verbose=0)\n",
    "        print(yhat[0])\n",
    "        temp_input.extend(yhat[0].tolist())\n",
    "        print(len(temp_input))\n",
    "        lst_output.extend(yhat.tolist())\n",
    "        i=i+1\n",
    "    \n",
    "\n",
    "print(lst_output)"
   ]
  },
  {
   "cell_type": "code",
   "execution_count": 42,
   "metadata": {},
   "outputs": [],
   "source": [
    "day_new=np.arange(1,101)  #considering previous 100 days\n",
    "day_pred=np.arange(101,131)  #because 30 days prediction we want "
   ]
  },
  {
   "cell_type": "code",
   "execution_count": 43,
   "metadata": {},
   "outputs": [],
   "source": [
    "import matplotlib.pyplot as plt"
   ]
  },
  {
   "cell_type": "code",
   "execution_count": 44,
   "metadata": {},
   "outputs": [
    {
     "data": {
      "text/plain": [
       "1257"
      ]
     },
     "execution_count": 44,
     "metadata": {},
     "output_type": "execute_result"
    }
   ],
   "source": [
    "len(df1)"
   ]
  },
  {
   "cell_type": "code",
   "execution_count": 45,
   "metadata": {},
   "outputs": [],
   "source": [
    "df3=df1.tolist()\n",
    "df3.extend(lst_output)"
   ]
  },
  {
   "cell_type": "code",
   "execution_count": 46,
   "metadata": {},
   "outputs": [
    {
     "data": {
      "text/plain": [
       "[<matplotlib.lines.Line2D at 0x17118341c30>]"
      ]
     },
     "execution_count": 46,
     "metadata": {},
     "output_type": "execute_result"
    },
    {
     "data": {
      "image/png": "[encoded data removed]",
      "text/plain": [
       "<Figure size 640x480 with 1 Axes>"
      ]
     },
     "metadata": {},
     "output_type": "display_data"
    }
   ],
   "source": [
    "plt.plot(day_new,scaler.inverse_transform(df1[1157:]))\n",
    "plt.plot(day_pred,scaler.inverse_transform(lst_output))"
   ]
  },
  {
   "cell_type": "code",
   "execution_count": 47,
   "metadata": {},
   "outputs": [
    {
     "data": {
      "text/plain": [
       "[<matplotlib.lines.Line2D at 0x171183db460>]"
      ]
     },
     "execution_count": 47,
     "metadata": {},
     "output_type": "execute_result"
    },
    {
     "data": {
      "image/png": "[encoded data removed]",
      "text/plain": [
       "<Figure size 640x480 with 1 Axes>"
      ]
     },
     "metadata": {},
     "output_type": "display_data"
    }
   ],
   "source": [
    "df3=df1.tolist()\n",
    "df3.extend(lst_output)\n",
    "plt.plot(df3[1200:])"
   ]
  },
  {
   "cell_type": "code",
   "execution_count": 48,
   "metadata": {},
   "outputs": [],
   "source": [
    "df3=scaler.inverse_transform(df3).tolist()"
   ]
  },
  {
   "cell_type": "code",
   "execution_count": 49,
   "metadata": {},
   "outputs": [
    {
     "data": {
      "text/plain": [
       "[<matplotlib.lines.Line2D at 0x1711847c730>]"
      ]
     },
     "execution_count": 49,
     "metadata": {},
     "output_type": "execute_result"
    },
    {
     "data": {
      "image/png": "[encoded data removed]",
      "text/plain": [
       "<Figure size 640x480 with 1 Axes>"
      ]
     },
     "metadata": {},
     "output_type": "display_data"
    }
   ],
   "source": [
    "plt.plot(df3)"
   ]
  },
  {
   "cell_type": "code",
   "execution_count": null,
   "metadata": {},
   "outputs": [],
   "source": []
  },
  {
   "cell_type": "code",
   "execution_count": null,
   "metadata": {},
   "outputs": [],
   "source": []
  },
  {
   "cell_type": "code",
   "execution_count": null,
   "metadata": {},
   "outputs": [],
   "source": []
  },
  {
   "cell_type": "code",
   "execution_count": null,
   "metadata": {},
   "outputs": [],
   "source": []
  },
  {
   "cell_type": "code",
   "execution_count": null,
   "metadata": {},
   "outputs": [],
   "source": []
  },
  {
   "cell_type": "code",
   "execution_count": null,
   "metadata": {},
   "outputs": [],
   "source": []
  }
 ],
 "metadata": {
  "kernelspec": {
   "display_name": "Python 3",
   "language": "python",
   "name": "python3"
  },
  "language_info": {
   "codemirror_mode": {
    "name": "ipython",
    "version": 3
   },
   "file_extension": ".py",
   "mimetype": "text/x-python",
   "name": "python",
   "nbconvert_exporter": "python",
   "pygments_lexer": "ipython3",
   "version": "3.10.9"
  }
 },
 "nbformat": 4,
 "nbformat_minor": 2
}
